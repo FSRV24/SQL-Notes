{
 "cells": [
  {
   "cell_type": "markdown",
   "id": "7d316edb",
   "metadata": {},
   "source": [
    "# Ejercicio: SQL avanzado\n",
    "\n",
    "## 🔘 Ejercicio 1\n",
    "\n",
    "Seleccionar los pedidos con importes entre 100 y 500.\n",
    "\n",
    "````{admonition} Solución\n",
    ":class: dropdown\n",
    "```sql\n",
    "SELECT *\n",
    "FROM pedidos\n",
    "WHERE importe BETWEEN 100 AND 500;\n",
    "```\n",
    "````\n",
    "\n",
    "---"
   ]
  }
 ],
 "metadata": {
  "jupytext": {
   "formats": "md:myst",
   "text_representation": {
    "extension": ".md",
    "format_name": "myst",
    "format_version": 0.13,
    "jupytext_version": "1.11.5"
   }
  },
  "kernelspec": {
   "display_name": "Python 3",
   "language": "python",
   "name": "python3"
  },
  "language_info": {
   "codemirror_mode": {
    "name": "ipython",
    "version": 3
   },
   "file_extension": ".py",
   "mimetype": "text/x-python",
   "name": "python",
   "nbconvert_exporter": "python",
   "pygments_lexer": "ipython3",
   "version": "3.10.7"
  },
  "source_map": [
   13
  ]
 },
 "nbformat": 4,
 "nbformat_minor": 5
}